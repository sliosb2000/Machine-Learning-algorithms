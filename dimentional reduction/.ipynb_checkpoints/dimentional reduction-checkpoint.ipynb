{
 "cells": [
  {
   "cell_type": "code",
   "execution_count": 14,
   "id": "38fe8c6c",
   "metadata": {},
   "outputs": [],
   "source": [
    "import numpy as np\n",
    "import pandas as pd\n",
    "import matplotlib.pyplot as plt"
   ]
  },
  {
   "cell_type": "code",
   "execution_count": 15,
   "id": "4f469195",
   "metadata": {},
   "outputs": [
    {
     "data": {
      "text/html": [
       "<div>\n",
       "<style scoped>\n",
       "    .dataframe tbody tr th:only-of-type {\n",
       "        vertical-align: middle;\n",
       "    }\n",
       "\n",
       "    .dataframe tbody tr th {\n",
       "        vertical-align: top;\n",
       "    }\n",
       "\n",
       "    .dataframe thead th {\n",
       "        text-align: right;\n",
       "    }\n",
       "</style>\n",
       "<table border=\"1\" class=\"dataframe\">\n",
       "  <thead>\n",
       "    <tr style=\"text-align: right;\">\n",
       "      <th></th>\n",
       "      <th>fixed acidity</th>\n",
       "      <th>volatile acidity</th>\n",
       "      <th>citric acid</th>\n",
       "      <th>residual sugar</th>\n",
       "      <th>chlorides</th>\n",
       "      <th>free sulfur dioxide</th>\n",
       "      <th>total sulfur dioxide</th>\n",
       "      <th>density</th>\n",
       "      <th>pH</th>\n",
       "      <th>sulphates</th>\n",
       "      <th>alcohol</th>\n",
       "      <th>quality</th>\n",
       "    </tr>\n",
       "  </thead>\n",
       "  <tbody>\n",
       "    <tr>\n",
       "      <th>0</th>\n",
       "      <td>7.4</td>\n",
       "      <td>0.70</td>\n",
       "      <td>0.00</td>\n",
       "      <td>1.9</td>\n",
       "      <td>0.076</td>\n",
       "      <td>11.0</td>\n",
       "      <td>34.0</td>\n",
       "      <td>0.9978</td>\n",
       "      <td>3.51</td>\n",
       "      <td>0.56</td>\n",
       "      <td>9.4</td>\n",
       "      <td>5</td>\n",
       "    </tr>\n",
       "    <tr>\n",
       "      <th>1</th>\n",
       "      <td>7.8</td>\n",
       "      <td>0.88</td>\n",
       "      <td>0.00</td>\n",
       "      <td>2.6</td>\n",
       "      <td>0.098</td>\n",
       "      <td>25.0</td>\n",
       "      <td>67.0</td>\n",
       "      <td>0.9968</td>\n",
       "      <td>3.20</td>\n",
       "      <td>0.68</td>\n",
       "      <td>9.8</td>\n",
       "      <td>5</td>\n",
       "    </tr>\n",
       "    <tr>\n",
       "      <th>2</th>\n",
       "      <td>7.8</td>\n",
       "      <td>0.76</td>\n",
       "      <td>0.04</td>\n",
       "      <td>2.3</td>\n",
       "      <td>0.092</td>\n",
       "      <td>15.0</td>\n",
       "      <td>54.0</td>\n",
       "      <td>0.9970</td>\n",
       "      <td>3.26</td>\n",
       "      <td>0.65</td>\n",
       "      <td>9.8</td>\n",
       "      <td>5</td>\n",
       "    </tr>\n",
       "    <tr>\n",
       "      <th>3</th>\n",
       "      <td>11.2</td>\n",
       "      <td>0.28</td>\n",
       "      <td>0.56</td>\n",
       "      <td>1.9</td>\n",
       "      <td>0.075</td>\n",
       "      <td>17.0</td>\n",
       "      <td>60.0</td>\n",
       "      <td>0.9980</td>\n",
       "      <td>3.16</td>\n",
       "      <td>0.58</td>\n",
       "      <td>9.8</td>\n",
       "      <td>6</td>\n",
       "    </tr>\n",
       "    <tr>\n",
       "      <th>4</th>\n",
       "      <td>7.4</td>\n",
       "      <td>0.70</td>\n",
       "      <td>0.00</td>\n",
       "      <td>1.9</td>\n",
       "      <td>0.076</td>\n",
       "      <td>11.0</td>\n",
       "      <td>34.0</td>\n",
       "      <td>0.9978</td>\n",
       "      <td>3.51</td>\n",
       "      <td>0.56</td>\n",
       "      <td>9.4</td>\n",
       "      <td>5</td>\n",
       "    </tr>\n",
       "  </tbody>\n",
       "</table>\n",
       "</div>"
      ],
      "text/plain": [
       "   fixed acidity  volatile acidity  citric acid  residual sugar  chlorides  \\\n",
       "0            7.4              0.70         0.00             1.9      0.076   \n",
       "1            7.8              0.88         0.00             2.6      0.098   \n",
       "2            7.8              0.76         0.04             2.3      0.092   \n",
       "3           11.2              0.28         0.56             1.9      0.075   \n",
       "4            7.4              0.70         0.00             1.9      0.076   \n",
       "\n",
       "   free sulfur dioxide  total sulfur dioxide  density    pH  sulphates  \\\n",
       "0                 11.0                  34.0   0.9978  3.51       0.56   \n",
       "1                 25.0                  67.0   0.9968  3.20       0.68   \n",
       "2                 15.0                  54.0   0.9970  3.26       0.65   \n",
       "3                 17.0                  60.0   0.9980  3.16       0.58   \n",
       "4                 11.0                  34.0   0.9978  3.51       0.56   \n",
       "\n",
       "   alcohol  quality  \n",
       "0      9.4        5  \n",
       "1      9.8        5  \n",
       "2      9.8        5  \n",
       "3      9.8        6  \n",
       "4      9.4        5  "
      ]
     },
     "execution_count": 15,
     "metadata": {},
     "output_type": "execute_result"
    }
   ],
   "source": [
    "wine = pd.read_csv('Wine.csv')\n",
    "wine.head()"
   ]
  },
  {
   "cell_type": "code",
   "execution_count": 16,
   "id": "0118cbff",
   "metadata": {},
   "outputs": [
    {
     "name": "stdout",
     "output_type": "stream",
     "text": [
      "[[ 7.4    0.7    0.    ...  3.51   0.56   9.4  ]\n",
      " [ 7.8    0.88   0.    ...  3.2    0.68   9.8  ]\n",
      " [ 7.8    0.76   0.04  ...  3.26   0.65   9.8  ]\n",
      " ...\n",
      " [ 6.3    0.51   0.13  ...  3.42   0.75  11.   ]\n",
      " [ 5.9    0.645  0.12  ...  3.57   0.71  10.2  ]\n",
      " [ 6.     0.31   0.47  ...  3.39   0.66  11.   ]] [5 5 5 ... 6 5 6]\n"
     ]
    }
   ],
   "source": [
    "X = wine.iloc[:,0:11].values\n",
    "y = wine.iloc[:,11].values\n",
    "print(X,y)"
   ]
  },
  {
   "cell_type": "markdown",
   "id": "f6e5f296",
   "metadata": {},
   "source": [
    "###  Creation of train and test sets from the data."
   ]
  },
  {
   "cell_type": "code",
   "execution_count": 17,
   "id": "d6252639",
   "metadata": {},
   "outputs": [],
   "source": [
    "from sklearn.model_selection import train_test_split\n",
    "\n",
    "X_train, X_test, y_train, y_test = train_test_split(X, y, test_size=0.2, random_state=0)"
   ]
  },
  {
   "cell_type": "markdown",
   "id": "7d782964",
   "metadata": {},
   "source": [
    "###  Scaling with Standardization\n"
   ]
  },
  {
   "cell_type": "code",
   "execution_count": 18,
   "id": "8de60313",
   "metadata": {},
   "outputs": [],
   "source": [
    "\n",
    "from sklearn.preprocessing import StandardScaler\n",
    "\n",
    "sc = StandardScaler()\n",
    "X_train = sc.fit_transform(X_train)\n",
    "X_test = sc.transform(X_test)"
   ]
  },
  {
   "cell_type": "markdown",
   "id": "f69ea8ae",
   "metadata": {},
   "source": [
    "### PCA"
   ]
  },
  {
   "cell_type": "code",
   "execution_count": 19,
   "id": "72a2aac5",
   "metadata": {},
   "outputs": [],
   "source": [
    "from sklearn.decomposition import PCA\n",
    "\n",
    "pca = PCA(n_components= 2)  # we will reduce the data set from 11 columns to 2 columns.\n",
    "X_train2 = pca.fit_transform(X_train) # fit means train, fit_transform means train and apply to a data set.\n",
    "X_test2 = pca.transform(X_test)  # Only transformation\n"
   ]
  },
  {
   "cell_type": "markdown",
   "id": "f2032522",
   "metadata": {},
   "source": [
    "### logistic regression before PCA"
   ]
  },
  {
   "cell_type": "code",
   "execution_count": 21,
   "id": "fc0e741c",
   "metadata": {},
   "outputs": [
    {
     "data": {
      "text/plain": [
       "LogisticRegression(random_state=0)"
      ]
     },
     "execution_count": 21,
     "metadata": {},
     "output_type": "execute_result"
    }
   ],
   "source": [
    "from sklearn.linear_model import LogisticRegression\n",
    "\n",
    "# random_state = 0 because the model will be used two times and we want to have same structure.\n",
    "# Thus, same LR algorithm structure will run.\n",
    "classifier = LogisticRegression(random_state=0)\n",
    "classifier.fit(X_train, y_train)"
   ]
  },
  {
   "cell_type": "markdown",
   "id": "32ee88fa",
   "metadata": {},
   "source": [
    "### LR after PCA transformation\n"
   ]
  },
  {
   "cell_type": "code",
   "execution_count": 22,
   "id": "e269e23c",
   "metadata": {},
   "outputs": [
    {
     "data": {
      "text/plain": [
       "LogisticRegression(random_state=0)"
      ]
     },
     "execution_count": 22,
     "metadata": {},
     "output_type": "execute_result"
    }
   ],
   "source": [
    "classifier2 = LogisticRegression(random_state=0)\n",
    "classifier2.fit(X_train2, y_train)"
   ]
  },
  {
   "cell_type": "markdown",
   "id": "b82e21fc",
   "metadata": {},
   "source": [
    "### Predictions\n"
   ]
  },
  {
   "cell_type": "code",
   "execution_count": 23,
   "id": "791b7aea",
   "metadata": {},
   "outputs": [],
   "source": [
    "\n",
    "# Prediction from the data that is not applied PCA.\n",
    "y_pred = classifier.predict(X_test) \n",
    "\n",
    "# Prediction from the data that is applied PCA.\n",
    "y_pred2 = classifier2.predict(X_test2)"
   ]
  },
  {
   "cell_type": "code",
   "execution_count": 24,
   "id": "68d66f06",
   "metadata": {},
   "outputs": [
    {
     "name": "stdout",
     "output_type": "stream",
     "text": [
      "actual / without PCA\n",
      "[[  0   0   2   0   0   0]\n",
      " [  0   0   6   4   1   0]\n",
      " [  0   0 104  30   1   0]\n",
      " [  0   0  37  90  15   0]\n",
      " [  0   0   2  16   9   0]\n",
      " [  0   0   0   1   2   0]]\n",
      "          \n",
      "actual / with PCA\n",
      "[[ 0  0  0  2  0  0]\n",
      " [ 0  0  4  7  0  0]\n",
      " [ 0  0 89 45  1  0]\n",
      " [ 0  0 55 81  6  0]\n",
      " [ 0  0  4 21  2  0]\n",
      " [ 0  0  0  2  1  0]]\n",
      "          \n",
      "without PCA / with PCA\n",
      "[[108  43   0]\n",
      " [ 40  99   2]\n",
      " [  4  16   8]]\n"
     ]
    }
   ],
   "source": [
    "# Evaluation\n",
    "\n",
    "from sklearn.metrics import confusion_matrix\n",
    "\n",
    "# actual / result without PCA\n",
    "print('actual / without PCA')\n",
    "cm = confusion_matrix(y_test, y_pred)\n",
    "print(cm)\n",
    "print('          ')\n",
    "\n",
    "# actual / result with PCA\n",
    "print('actual / with PCA')\n",
    "cm2 = confusion_matrix(y_test, y_pred2)\n",
    "print(cm2)\n",
    "print('          ')\n",
    "\n",
    "# after PCA / before PCA\n",
    "print('without PCA / with PCA')\n",
    "cm3 = confusion_matrix(y_pred, y_pred2)\n",
    "print(cm3)"
   ]
  },
  {
   "cell_type": "markdown",
   "id": "ab9cb355",
   "metadata": {},
   "source": [
    "# LDA (Linear Discriminant Analysis)"
   ]
  },
  {
   "cell_type": "code",
   "execution_count": 25,
   "id": "4ab75ed1",
   "metadata": {},
   "outputs": [],
   "source": [
    "from sklearn.discriminant_analysis import LinearDiscriminantAnalysis as LDA\n",
    "\n",
    "lda = LDA(n_components = 2)\n",
    "X_train_lda = lda.fit_transform(X_train, y_train)\n",
    "X_test_lda = lda.transform(X_test)"
   ]
  },
  {
   "cell_type": "markdown",
   "id": "8a8e3fe3",
   "metadata": {},
   "source": [
    "### LR after LDA transformation"
   ]
  },
  {
   "cell_type": "code",
   "execution_count": 26,
   "id": "a3caad70",
   "metadata": {},
   "outputs": [
    {
     "data": {
      "text/plain": [
       "LogisticRegression(random_state=0)"
      ]
     },
     "execution_count": 26,
     "metadata": {},
     "output_type": "execute_result"
    }
   ],
   "source": [
    "classifier_lda = LogisticRegression(random_state=0)\n",
    "classifier_lda.fit(X_train_lda, y_train)"
   ]
  },
  {
   "cell_type": "markdown",
   "id": "a1eb7b3a",
   "metadata": {},
   "source": [
    "### Predictions of LDA data"
   ]
  },
  {
   "cell_type": "code",
   "execution_count": 27,
   "id": "9e99c6e4",
   "metadata": {},
   "outputs": [],
   "source": [
    "y_pred_lda = classifier_lda.predict(X_test_lda)  "
   ]
  },
  {
   "cell_type": "markdown",
   "id": "704b0805",
   "metadata": {},
   "source": [
    "### Evaluation with Confusion matrix"
   ]
  },
  {
   "cell_type": "code",
   "execution_count": 28,
   "id": "abc5fb37",
   "metadata": {},
   "outputs": [
    {
     "name": "stdout",
     "output_type": "stream",
     "text": [
      "Original & LDA\n",
      "[[149   2   0]\n",
      " [ 11 128   2]\n",
      " [  0   6  22]]\n",
      "          \n",
      "actual / without LDA\n",
      "[[  0   0   2   0   0   0]\n",
      " [  0   0   6   4   1   0]\n",
      " [  0   0 104  30   1   0]\n",
      " [  0   0  37  90  15   0]\n",
      " [  0   0   2  16   9   0]\n",
      " [  0   0   0   1   2   0]]\n",
      "          \n",
      "actual / with LDA\n",
      "[[  0   0   2   0   0   0]\n",
      " [  0   0   6   5   0   0]\n",
      " [  0   0 106  29   0   0]\n",
      " [  0   0  45  85  12   0]\n",
      " [  0   0   1  16  10   0]\n",
      " [  0   0   0   1   2   0]]\n"
     ]
    }
   ],
   "source": [
    "\n",
    "\n",
    "# original / After LDA \n",
    "print('Original & LDA')\n",
    "cm4 = confusion_matrix(y_pred, y_pred_lda)\n",
    "print(cm4)\n",
    "print('          ')\n",
    "\n",
    "# actual / result without LDA\n",
    "print('actual / without LDA')\n",
    "cm5 = confusion_matrix(y_test, y_pred)\n",
    "print(cm5)\n",
    "print('          ')\n",
    "\n",
    "# actual / result with LDA\n",
    "print('actual / with LDA')\n",
    "cm6 = confusion_matrix(y_test, y_pred_lda)\n",
    "print(cm6)"
   ]
  },
  {
   "cell_type": "code",
   "execution_count": null,
   "id": "323fbde7",
   "metadata": {},
   "outputs": [],
   "source": []
  },
  {
   "cell_type": "code",
   "execution_count": null,
   "id": "2d0bf835",
   "metadata": {},
   "outputs": [],
   "source": []
  },
  {
   "cell_type": "code",
   "execution_count": null,
   "id": "c4e1d5c7",
   "metadata": {},
   "outputs": [],
   "source": []
  }
 ],
 "metadata": {
  "kernelspec": {
   "display_name": "Python 3 (ipykernel)",
   "language": "python",
   "name": "python3"
  },
  "language_info": {
   "codemirror_mode": {
    "name": "ipython",
    "version": 3
   },
   "file_extension": ".py",
   "mimetype": "text/x-python",
   "name": "python",
   "nbconvert_exporter": "python",
   "pygments_lexer": "ipython3",
   "version": "3.9.13"
  }
 },
 "nbformat": 4,
 "nbformat_minor": 5
}
