{
 "cells": [
  {
   "cell_type": "code",
   "execution_count": 2,
   "id": "03fe6dc5",
   "metadata": {},
   "outputs": [],
   "source": [
    "import pandas as pd\n",
    "import matplotlib.pyplot as plt\n",
    "import numpy as np\n",
    "\n",
    "from sklearn.model_selection import train_test_split\n",
    "\n",
    "from sklearn.svm import SVR\n",
    "from sklearn.preprocessing import StandardScaler\n",
    "\n",
    "from sklearn.metrics import r2_score  # The important one today"
   ]
  },
  {
   "cell_type": "code",
   "execution_count": 3,
   "id": "0e9b54c0",
   "metadata": {},
   "outputs": [
    {
     "name": "stdout",
     "output_type": "stream",
     "text": [
      "(9568, 5) \n",
      "           AT      V       AP     RH      PE\n",
      "0     14.96  41.76  1024.07  73.17  463.26\n",
      "1     25.18  62.96  1020.04  59.08  444.37\n",
      "2      5.11  39.40  1012.16  92.14  488.56\n",
      "3     20.86  57.32  1010.24  76.64  446.48\n",
      "4     10.82  37.50  1009.23  96.62  473.90\n",
      "...     ...    ...      ...    ...     ...\n",
      "9563  16.65  49.69  1014.01  91.00  460.03\n",
      "9564  13.19  39.18  1023.67  66.78  469.62\n",
      "9565  31.32  74.33  1012.92  36.48  429.57\n",
      "9566  24.48  69.45  1013.86  62.39  435.74\n",
      "9567  21.60  62.52  1017.23  67.87  453.28\n",
      "\n",
      "[9568 rows x 5 columns]\n"
     ]
    }
   ],
   "source": [
    "data = pd.read_csv(\"Data.csv\")\n",
    "print(data.shape,\"\\n \",data)\n",
    "X = data.iloc[:,:-1].values\n",
    "y = data.iloc[:,-1].values"
   ]
  },
  {
   "cell_type": "code",
   "execution_count": 4,
   "id": "6404cb77",
   "metadata": {},
   "outputs": [
    {
     "data": {
      "text/plain": [
       "6410"
      ]
     },
     "execution_count": 4,
     "metadata": {},
     "output_type": "execute_result"
    }
   ],
   "source": [
    "X_train, X_test, y_train, y_test = train_test_split(X, y, test_size=0.33)\n",
    "len(X_train)"
   ]
  },
  {
   "cell_type": "code",
   "execution_count": 5,
   "id": "a9c0a61d",
   "metadata": {},
   "outputs": [],
   "source": [
    "#Scaling the Data\n",
    "#sc_X_train = StandardScaler()\n",
    "#sc_X_test = StandardScaler()\n",
    "#sc_y_train = StandardScaler()\n",
    "#sc_y_test = StandardScaler()\n",
    "#X_train = sc_X_train.fit_transform(X.reshape(-1, 1))\n",
    "#X_test = sc_X_test.fit_transform(X.reshape(-1, 1))\n",
    "#y_train = sc_y_train.fit_transform(y.reshape(-1, 1))\n",
    "#y_test = sc_y_test.fit_transform(y.reshape(-1, 1))"
   ]
  },
  {
   "cell_type": "markdown",
   "id": "12412fcc",
   "metadata": {},
   "source": [
    "### Linear regression "
   ]
  },
  {
   "cell_type": "code",
   "execution_count": 6,
   "id": "d62be33a",
   "metadata": {},
   "outputs": [
    {
     "name": "stdout",
     "output_type": "stream",
     "text": [
      "0.9292307731689623\n"
     ]
    }
   ],
   "source": [
    "from sklearn.linear_model import LinearRegression\n",
    "reg = LinearRegression().fit(X_train, y_train)\n",
    "y_pred = reg.predict(X_test)\n",
    "res1 = r2_score(y_test,y_pred)\n",
    "print(res1)"
   ]
  },
  {
   "cell_type": "markdown",
   "id": "eb37a779",
   "metadata": {},
   "source": [
    "### SVG"
   ]
  },
  {
   "cell_type": "code",
   "execution_count": 7,
   "id": "c0036478",
   "metadata": {},
   "outputs": [
    {
     "name": "stdout",
     "output_type": "stream",
     "text": [
      "6410 3158 6410 3158\n",
      "6410 3158 6410 3158\n"
     ]
    }
   ],
   "source": [
    "sc_X_train = StandardScaler()\n",
    "sc_X_test = StandardScaler()\n",
    "sc_y_train = StandardScaler()\n",
    "sc_y_test = StandardScaler()\n",
    "\n",
    "X_train_s = sc_X_train.fit_transform(X_train)\n",
    "X_test_s = sc_X_test.fit_transform(X_test)\n",
    "y_train_s = sc_y_train.fit_transform(y_train.reshape(-1, 1))\n",
    "y_test_s = sc_y_test.fit_transform(y_test.reshape(-1, 1))\n",
    "\n",
    "print(len(X_train),len(X_test),len(y_train),len(y_test))\n",
    "print(len(X_train_s),len(X_test_s),len(y_train_s),len(y_test_s))"
   ]
  },
  {
   "cell_type": "code",
   "execution_count": 8,
   "id": "68b3f404",
   "metadata": {},
   "outputs": [
    {
     "name": "stderr",
     "output_type": "stream",
     "text": [
      "D:\\Users\\HP\\anaconda3\\lib\\site-packages\\sklearn\\utils\\validation.py:993: DataConversionWarning: A column-vector y was passed when a 1d array was expected. Please change the shape of y to (n_samples, ), for example using ravel().\n",
      "  y = column_or_1d(y, warn=True)\n"
     ]
    },
    {
     "name": "stdout",
     "output_type": "stream",
     "text": [
      "0.9450939690163053\n"
     ]
    }
   ],
   "source": [
    "regressor = SVR(kernel = 'rbf')\n",
    "regressor.fit(X_train_s, y_train_s)\n",
    "y_pred = regressor.predict(X_test_s)\n",
    "\n",
    "res2 = r2_score(y_test_s,y_pred)\n",
    "print(res2)"
   ]
  },
  {
   "cell_type": "markdown",
   "id": "b90cf67b",
   "metadata": {},
   "source": [
    "### Decision tree regressor"
   ]
  },
  {
   "cell_type": "code",
   "execution_count": 9,
   "id": "e8a2e6bd",
   "metadata": {},
   "outputs": [
    {
     "name": "stdout",
     "output_type": "stream",
     "text": [
      "0.9228659639690677\n"
     ]
    }
   ],
   "source": [
    "from sklearn.tree import DecisionTreeRegressor\n",
    "regressor = DecisionTreeRegressor(random_state=0)\n",
    "regressor.fit(X_train,y_train)\n",
    "y_pred = regressor.predict(X_test)\n",
    "\n",
    "res3 = r2_score(y_test,y_pred)\n",
    "print(res3)"
   ]
  },
  {
   "cell_type": "markdown",
   "id": "b875fe92",
   "metadata": {},
   "source": [
    "### Random forest regressor"
   ]
  },
  {
   "cell_type": "code",
   "execution_count": 10,
   "id": "db693b76",
   "metadata": {},
   "outputs": [
    {
     "name": "stdout",
     "output_type": "stream",
     "text": [
      "0.9572360843072727\n"
     ]
    }
   ],
   "source": [
    "from sklearn.ensemble import RandomForestRegressor\n",
    "regressor = RandomForestRegressor(n_estimators = 10, random_state = 0)\n",
    "regressor.fit(X_train, y_train)\n",
    "y_pred = regressor.predict(X_test)\n",
    "\n",
    "res4 = r2_score(y_test,y_pred)\n",
    "print(res4)"
   ]
  },
  {
   "cell_type": "markdown",
   "id": "459ae560",
   "metadata": {},
   "source": [
    "### Polynomial regressor"
   ]
  },
  {
   "cell_type": "code",
   "execution_count": 11,
   "id": "a00127a2",
   "metadata": {},
   "outputs": [
    {
     "name": "stdout",
     "output_type": "stream",
     "text": [
      "0.9430118412416941\n"
     ]
    }
   ],
   "source": [
    "from sklearn.preprocessing import PolynomialFeatures\n",
    "poly_reg = PolynomialFeatures(degree = 4)\n",
    "X_poly = poly_reg.fit_transform(X_train)\n",
    "regressor = LinearRegression()\n",
    "regressor.fit(X_poly,y_train)\n",
    "\n",
    "#predicting the test set\n",
    "y_pred = regressor.predict(poly_reg.transform(X_test))\n",
    "\n",
    "res5 = r2_score(y_test,y_pred)\n",
    "print(res5)"
   ]
  },
  {
   "cell_type": "code",
   "execution_count": 12,
   "id": "329f9591",
   "metadata": {},
   "outputs": [
    {
     "data": {
      "text/plain": [
       "<BarContainer object of 5 artists>"
      ]
     },
     "execution_count": 12,
     "metadata": {},
     "output_type": "execute_result"
    },
    {
     "data": {
      "image/png": "[encoded data removed]",
      "text/plain": [
       "<Figure size 640x480 with 1 Axes>"
      ]
     },
     "metadata": {},
     "output_type": "display_data"
    }
   ],
   "source": [
    "res = [res1,res2,res3,res4,res5]\n",
    "plt.bar([\"Linear regression \",\" SVG\",\"Decision tree regression\",\"Random forest regressor\",\"Polynomial regressor\"],res)"
   ]
  },
  {
   "cell_type": "code",
   "execution_count": 112,
   "id": "905b2ca1",
   "metadata": {},
   "outputs": [
    {
     "ename": "TypeError",
     "evalue": "Value after * must be an iterable, not int",
     "output_type": "error",
     "traceback": [
      "\u001b[1;31m---------------------------------------------------------------------------\u001b[0m",
      "\u001b[1;31mTypeError\u001b[0m                                 Traceback (most recent call last)",
      "\u001b[1;32m~\\AppData\\Local\\Temp/ipykernel_10288/306847033.py\u001b[0m in \u001b[0;36m<module>\u001b[1;34m\u001b[0m\n\u001b[1;32m----> 1\u001b[1;33m \u001b[0mmap\u001b[0m\u001b[1;33m(\u001b[0m\u001b[0mres\u001b[0m\u001b[1;33m,\u001b[0m\u001b[1;33m*\u001b[0m\u001b[1;36m100\u001b[0m\u001b[1;33m)\u001b[0m\u001b[1;33m\u001b[0m\u001b[1;33m\u001b[0m\u001b[0m\n\u001b[0m",
      "\u001b[1;31mTypeError\u001b[0m: Value after * must be an iterable, not int"
     ]
    }
   ],
   "source": []
  },
  {
   "cell_type": "code",
   "execution_count": null,
   "id": "0b11c4be",
   "metadata": {},
   "outputs": [],
   "source": []
  }
 ],
 "metadata": {
  "kernelspec": {
   "display_name": "Python 3 (ipykernel)",
   "language": "python",
   "name": "python3"
  },
  "language_info": {
   "codemirror_mode": {
    "name": "ipython",
    "version": 3
   },
   "file_extension": ".py",
   "mimetype": "text/x-python",
   "name": "python",
   "nbconvert_exporter": "python",
   "pygments_lexer": "ipython3",
   "version": "3.7.15"
  }
 },
 "nbformat": 4,
 "nbformat_minor": 5
}
